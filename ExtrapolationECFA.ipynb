{
 "cells": [
  {
   "cell_type": "markdown",
   "metadata": {},
   "source": [
    "## Extrapolation for 3000/fb of integrate luminosity starting from [HIG-16-012](http://cms-results.web.cern.ch/cms-results/public-results/preliminary-results/HIG-16-012/index.html) results\n",
    "\n",
    "#### Changes wrt to HIG-16-012 datacards are:\n",
    "* shape uncertainties coming from low MC statistics are deemed negligible \n",
    "\n",
    "* statistical (CR) uncertainties for data-driven QCD is assumed to be negligible\n",
    "\n",
    "* remove ttbar pT reweighting shape uncertainty \n",
    "\n",
    "* all other systematics are left untouched\n",
    "\n",
    "#### Perform 95% CL upper limits on the cross section times the BR w.r.t. the SM expected cross section for the following scenarios:\n",
    "1. Without changing anything in the nuisances parameters but just what is defined in the previous section\n",
    "\n",
    "2. Reducing the nuisance parameters associated to the background estimation by a factor N > 1\n",
    "    * DY from 1.24 to 1.01\n",
    "    * ttbar from 1.05 to 1.02\n",
    "    * diboson from 1.10 to 1.01\n",
    "    * single top from 1.053 to 1.02\n",
    "\n",
    "3. Reducing the nuisance parameters associated to objects (electrons-muons-jets-bjets) to the asymtotic values that will be reached with 3000/fb\n",
    "    * electron and muon systematics 1.01\n",
    "    * tau systematics 1.02/1.03 (for etau-mutau/tautau final states)\n",
    "    * btag 1.02\n",
    "    * remove b-scale systematics and jet-scale (why there was a jet-scale nuisance?)\n",
    "    * luminosity 1.015\n",
    "\n",
    "4. Assuming an improved analysis following what is done in the TP analysis [FTR-15-002] (https://cds.cern.ch/record/2063038/files/FTR-15-002-pas.pdf)\n",
    "    * reduce by a factor 2 the expcted ttbar events \n",
    "    * reduce by a factor 4 the expcted QCD events \n",
    "\n",
    "5. Considering only the statistical systematic\n",
    "\n",
    "#### Running the code \n",
    "\n",
    "text2workspace.py hh_ttbb_SM_13TeV_ext.txt -m 125 -o hh_ttbb_SM_13TeV_ext.root\n",
    "\n",
    "combine -M Asymptotic -d hh_ttbb_SM_13TeV_ext.root --run blind --setPhysicsModelParameters <font color='red'>lumiscale=1111</font> -m 125 -n SM_13TeV_3ab --rMax 40 <font color='red'>--freezeNuisances all </font> \n",
    "\n",
    "\n",
    "lumiscale=1 == 2.7/fb\n",
    "\n",
    "lumiscale=37 === 100/fb\n",
    "\n",
    "lumiscale=111 === 300/fb\n",
    "\n",
    "lumiscale=370 === 1000/fb\n",
    "\n",
    "lumiscale=1111 === 3000/fb"
   ]
  },
  {
   "cell_type": "markdown",
   "metadata": {},
   "source": [
    "#### Results\n",
    "\n",
    "| Luminosity  | scenario 1 | scenario 2 | scenario 3 | scenario 4 | scenario 5 |\n",
    "|:-:|:-:|:-:|:-:|:-:|:-:|\n",
    "| 2.7 | 228.5000| 226.5000 | 211.6250 | 175.2500 | 171.9375 |\n",
    "| 100 |  35.3750| 31.3750 | 29.8750 | 24.8125 | 21.9375 |\n",
    "| 300 |  22.6875 | 18.1875 | 17.1875 | 14.5625 | 12.2812 |\n",
    "| 1000 | 14.1875| 10.5312 | 9.5938 | 8.2500 | 6.5938 |\n",
    "| 3000 |  8.7500 | 6.7188 | 5.9531 | 5.1719 | 3.7656 |"
   ]
  },
  {
   "cell_type": "code",
   "execution_count": null,
   "metadata": {
    "collapsed": true
   },
   "outputs": [],
   "source": []
  }
 ],
 "metadata": {
  "kernelspec": {
   "display_name": "Python 2",
   "language": "python",
   "name": "python2"
  },
  "language_info": {
   "codemirror_mode": {
    "name": "ipython",
    "version": 2
   },
   "file_extension": ".py",
   "mimetype": "text/x-python",
   "name": "python",
   "nbconvert_exporter": "python",
   "pygments_lexer": "ipython2",
   "version": "2.7.10"
  }
 },
 "nbformat": 4,
 "nbformat_minor": 0
}
